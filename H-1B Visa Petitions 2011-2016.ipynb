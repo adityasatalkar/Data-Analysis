{
 "cells": [
  {
   "cell_type": "markdown",
   "metadata": {},
   "source": [
    "# H-1B Visa Petitions 2011-2016"
   ]
  },
  {
   "cell_type": "code",
   "execution_count": 1,
   "metadata": {
    "collapsed": true
   },
   "outputs": [],
   "source": [
    "import pandas as pd\n",
    "import numpy as np\n",
    "import datetime\n",
    "\n",
    "\n",
    "import warnings\n",
    "warnings.filterwarnings(\"ignore\")\n",
    "import seaborn as sns\n",
    "import matplotlib.pyplot as plt\n",
    "sns.set(style=\"white\", color_codes=True)\n",
    "\n",
    "\n",
    "\n",
    "# Read data \n",
    "d=pd.read_csv(\"h1b_kaggle.csv\")"
   ]
  },
  {
   "cell_type": "code",
   "execution_count": 2,
   "metadata": {
    "collapsed": false
   },
   "outputs": [
    {
     "data": {
      "text/plain": [
       "INFOSYS LIMITED                                    130592\n",
       "TATA CONSULTANCY SERVICES LIMITED                   64726\n",
       "WIPRO LIMITED                                       48117\n",
       "DELOITTE CONSULTING LLP                             36742\n",
       "IBM INDIA PRIVATE LIMITED                           34219\n",
       "ACCENTURE LLP                                       33447\n",
       "MICROSOFT CORPORATION                               25576\n",
       "HCL AMERICA, INC.                                   22678\n",
       "ERNST & YOUNG U.S. LLP                              18232\n",
       "COGNIZANT TECHNOLOGY SOLUTIONS U.S. CORPORATION     17528\n",
       "LARSEN & TOUBRO INFOTECH LIMITED                    17457\n",
       "CAPGEMINI AMERICA INC                               16725\n",
       "GOOGLE INC.                                         16473\n",
       "IBM CORPORATION                                     13276\n",
       "IGATE TECHNOLOGIES INC.                             12564\n",
       "Name: EMPLOYER_NAME, dtype: int64"
      ]
     },
     "execution_count": 2,
     "metadata": {},
     "output_type": "execute_result"
    }
   ],
   "source": [
    "d['EMPLOYER_NAME'].value_counts().head(15)"
   ]
  },
  {
   "cell_type": "code",
   "execution_count": 3,
   "metadata": {
    "collapsed": false
   },
   "outputs": [
    {
     "data": {
      "text/plain": [
       "DELOITTE CONSULTING LLP                            6166\n",
       "TRUSTEES OF THE UNIVERSITY OF PENNSYLVANIA         2199\n",
       "DELOITTE & TOUCHE LLP                               841\n",
       "INFOSYS LIMITED                                     798\n",
       "TEMPLE UNIVERSITY--A COMMONWEALTH UNIVERSITY        781\n",
       "ACCENTURE LLP                                       503\n",
       "COMCAST CABLE COMMUNICATIONS, LLC                   438\n",
       "THE CHILDREN'S HOSPITAL OF PHILADELPHIA             405\n",
       "COGNIZANT TECHNOLOGY SOLUTIONS U.S. CORPORATION     320\n",
       "THOMAS JEFFERSON UNIVERSITY                         313\n",
       "ERNST & YOUNG U.S. LLP                              302\n",
       "WIPRO LIMITED                                       285\n",
       "TATA CONSULTANCY SERVICES LIMITED                   230\n",
       "THOMAS JEFFERSON UNIVERSITY HOSPITAL                228\n",
       "TEMPLE UNIVERSITY HEALTH SYSTEM                     227\n",
       "DREXEL UNIVERSITY                                   195\n",
       "ALBERT EINSTEIN MEDICAL CENTER                      174\n",
       "UST GLOBAL INC.                                     169\n",
       "UST GLOBAL INC                                      154\n",
       "KPMG LLP                                            138\n",
       "URBAN OUTFITTERS, INC.                              129\n",
       "CAPGEMINI AMERICA INC                               117\n",
       "THE WISTAR INSTITUTE OF ANATOMY AND BIOLOGY         114\n",
       "DATA-CORE SYSTEMS, INC                              107\n",
       "LIQUIDHUB, INC.                                      86\n",
       "Name: EMPLOYER_NAME, dtype: int64"
      ]
     },
     "execution_count": 3,
     "metadata": {},
     "output_type": "execute_result"
    }
   ],
   "source": [
    "t=d[d['WORKSITE']=='PHILADELPHIA, PENNSYLVANIA']\n",
    "t['EMPLOYER_NAME'].value_counts().head(25)"
   ]
  },
  {
   "cell_type": "code",
   "execution_count": 4,
   "metadata": {
    "collapsed": true
   },
   "outputs": [],
   "source": [
    "t=d[d['EMPLOYER_NAME']=='COMCAST CABLE COMMUNICATIONS, LLC']\n",
    "t['PREVAILING_WAGE'].value_counts().tolist\n",
    "#sns.distplot(t['PREVAILING_WAGE']);\n",
    "t=t[t['PREVAILING_WAGE']<500000]\n",
    "sns.distplot(t['PREVAILING_WAGE']);\n",
    "#t['PREVAILING_WAGE'].describe()"
   ]
  },
  {
   "cell_type": "code",
   "execution_count": 5,
   "metadata": {
    "collapsed": false
   },
   "outputs": [
    {
     "data": {
      "text/html": [
       "<div>\n",
       "<table border=\"1\" class=\"dataframe\">\n",
       "  <thead>\n",
       "    <tr style=\"text-align: right;\">\n",
       "      <th></th>\n",
       "      <th>Unnamed: 0</th>\n",
       "      <th>CASE_STATUS</th>\n",
       "      <th>EMPLOYER_NAME</th>\n",
       "      <th>SOC_NAME</th>\n",
       "      <th>JOB_TITLE</th>\n",
       "      <th>FULL_TIME_POSITION</th>\n",
       "      <th>PREVAILING_WAGE</th>\n",
       "      <th>YEAR</th>\n",
       "      <th>WORKSITE</th>\n",
       "      <th>lon</th>\n",
       "      <th>lat</th>\n",
       "    </tr>\n",
       "  </thead>\n",
       "  <tbody>\n",
       "    <tr>\n",
       "      <th>1001582</th>\n",
       "      <td>1001583</td>\n",
       "      <td>CERTIFIED</td>\n",
       "      <td>COMCAST CABLE COMMUNICATIONS, LLC</td>\n",
       "      <td>COMPUTER AND INFORMATION SYSTEMS MANAGERS</td>\n",
       "      <td>PROJECT MANAGER, SCRUM MASTER 4</td>\n",
       "      <td>Y</td>\n",
       "      <td>88400.0</td>\n",
       "      <td>2015.0</td>\n",
       "      <td>PHILADELPHIA, PENNSYLVANIA</td>\n",
       "      <td>-75.165222</td>\n",
       "      <td>39.952584</td>\n",
       "    </tr>\n",
       "  </tbody>\n",
       "</table>\n",
       "</div>"
      ],
      "text/plain": [
       "         Unnamed: 0 CASE_STATUS                      EMPLOYER_NAME  \\\n",
       "1001582     1001583   CERTIFIED  COMCAST CABLE COMMUNICATIONS, LLC   \n",
       "\n",
       "                                          SOC_NAME  \\\n",
       "1001582  COMPUTER AND INFORMATION SYSTEMS MANAGERS   \n",
       "\n",
       "                               JOB_TITLE FULL_TIME_POSITION  PREVAILING_WAGE  \\\n",
       "1001582  PROJECT MANAGER, SCRUM MASTER 4                  Y          88400.0   \n",
       "\n",
       "           YEAR                    WORKSITE        lon        lat  \n",
       "1001582  2015.0  PHILADELPHIA, PENNSYLVANIA -75.165222  39.952584  "
      ]
     },
     "execution_count": 5,
     "metadata": {},
     "output_type": "execute_result"
    }
   ],
   "source": [
    "t[(t['SOC_NAME']=='COMPUTER AND INFORMATION SYSTEMS MANAGERS') & (t['PREVAILING_WAGE'] < 90000)]"
   ]
  },
  {
   "cell_type": "code",
   "execution_count": 6,
   "metadata": {
    "collapsed": false
   },
   "outputs": [
    {
     "data": {
      "text/plain": [
       "Software Developers, Applications                   152\n",
       "SOFTWARE DEVELOPERS, APPLICATIONS                   143\n",
       "Computer Systems Analysts                            72\n",
       "Network and Computer Systems Administrators          70\n",
       "Computer Software Engineers, Applications            68\n",
       "Software Developers, Systems Software                43\n",
       "Computer Software Engineers, Systems Software        40\n",
       "COMPUTER OCCUPATIONS, ALL OTHER                      36\n",
       "Network and Computer Systems Administrators*         30\n",
       "COMPUTER SYSTEMS ANALYSTS                            28\n",
       "NETWORK AND COMPUTER SYSTEMS ADMINISTRATORS          28\n",
       "Database Administrators                              19\n",
       "SOFTWARE DEVELOPERS, SYSTEMS SOFTWARE                18\n",
       "Computer Occupations, All Other                      18\n",
       "COMPUTER NETWORK ARCHITECTS                          15\n",
       "Operations Research Analysts                         13\n",
       "DATABASE ADMINISTRATORS                               8\n",
       "OPERATIONS RESEARCH ANALYSTS                          7\n",
       "Network Systems and Data Communications Analysts      6\n",
       "Management Analysts                                   6\n",
       "Name: SOC_NAME, dtype: int64"
      ]
     },
     "execution_count": 6,
     "metadata": {},
     "output_type": "execute_result"
    }
   ],
   "source": [
    "tt=t[ (t['PREVAILING_WAGE'] < 95000)]\n",
    "tt['SOC_NAME'].value_counts().head(20)"
   ]
  },
  {
   "cell_type": "code",
   "execution_count": 7,
   "metadata": {
    "collapsed": false
   },
   "outputs": [
    {
     "data": {
      "text/plain": [
       "SOFTWARE DEVELOPERS, APPLICATIONS              86\n",
       "Software Developers, Applications              38\n",
       "COMPUTER OCCUPATIONS, ALL OTHER                31\n",
       "COMPUTER AND INFORMATION SYSTEMS MANAGERS      22\n",
       "COMPUTER SYSTEMS ANALYSTS                      19\n",
       "Computer and Information Systems Managers      19\n",
       "Software Developers, Systems Software          18\n",
       "SOFTWARE DEVELOPERS, SYSTEMS SOFTWARE          12\n",
       "NETWORK AND COMPUTER SYSTEMS ADMINISTRATORS    11\n",
       "Computer Systems Analysts                      11\n",
       "DATABASE ADMINISTRATORS                         8\n",
       "GENERAL AND OPERATIONS MANAGERS                 4\n",
       "COMPUTER NETWORK ARCHITECTS                     4\n",
       "Managers, All Other                             4\n",
       "Network and Computer Systems Administrators     4\n",
       "Database Administrators                         3\n",
       "Computer Network Architects                     3\n",
       "Management Analysts                             3\n",
       "Chief Executives                                3\n",
       "Sales Managers                                  3\n",
       "Name: SOC_NAME, dtype: int64"
      ]
     },
     "execution_count": 7,
     "metadata": {},
     "output_type": "execute_result"
    }
   ],
   "source": [
    "tt=t[ (t['PREVAILING_WAGE'] >= 95000)]\n",
    "tt['SOC_NAME'].value_counts().head(20)"
   ]
  },
  {
   "cell_type": "code",
   "execution_count": 8,
   "metadata": {
    "collapsed": false
   },
   "outputs": [
    {
     "data": {
      "text/plain": [
       "0    BIOCHEMISTS AND BIOPHYSICISTS\n",
       "1                 CHIEF EXECUTIVES\n",
       "2                 CHIEF EXECUTIVES\n",
       "3                 CHIEF EXECUTIVES\n",
       "4                 CHIEF EXECUTIVES\n",
       "Name: title, dtype: object"
      ]
     },
     "execution_count": 8,
     "metadata": {},
     "output_type": "execute_result"
    }
   ],
   "source": [
    "d['title']=d['SOC_NAME'].str.upper()\n",
    "d['title'].head()"
   ]
  },
  {
   "cell_type": "code",
   "execution_count": 9,
   "metadata": {
    "collapsed": true
   },
   "outputs": [],
   "source": [
    "# SOFTWARE ALL\n",
    "t=d[d.title.str.match(r'.*SOFTWARE.*', na=False)]\n",
    "t = t[(t['PREVAILING_WAGE']>= 0) & (t['PREVAILING_WAGE']<=150000)]\n",
    "sns.distplot(t['PREVAILING_WAGE']);"
   ]
  },
  {
   "cell_type": "code",
   "execution_count": null,
   "metadata": {
    "collapsed": true
   },
   "outputs": [],
   "source": []
  }
 ],
 "metadata": {
  "anaconda-cloud": {},
  "kernelspec": {
   "display_name": "Python [conda root]",
   "language": "python",
   "name": "conda-root-py"
  },
  "language_info": {
   "codemirror_mode": {
    "name": "ipython",
    "version": 3
   },
   "file_extension": ".py",
   "mimetype": "text/x-python",
   "name": "python",
   "nbconvert_exporter": "python",
   "pygments_lexer": "ipython3",
   "version": "3.5.2"
  }
 },
 "nbformat": 4,
 "nbformat_minor": 1
}
